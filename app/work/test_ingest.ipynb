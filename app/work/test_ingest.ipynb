{
 "cells": [
  {
   "cell_type": "code",
   "execution_count": 1,
   "id": "bcccb0e8-7475-42c0-9674-b728fa2b1c87",
   "metadata": {},
   "outputs": [],
   "source": [
    "from ingest.loader import extract_text, to_llama_documents\n",
    "from ingest.ingest_llama import ingest_docs\n",
    "\n",
    "path = \"/data/processing/5_ТМК_фазы.pdf\"\n",
    "\n",
    "parsed = extract_text(path)\n",
    "docs = to_llama_documents(parsed)\n",
    "ingest_docs(docs)"
   ]
  },
  {
   "cell_type": "code",
   "execution_count": 1,
   "id": "e5841318-0460-4206-a1e7-93edb34eff58",
   "metadata": {},
   "outputs": [],
   "source": [
    "'''from os import getenv\n",
    "from dotenv import load_dotenv\n",
    "load_dotenv(\"/home/app/work/.env\")\n",
    "\n",
    "QDRANT_URL = getenv(\"QDRANT_URL\")\n",
    "QDRANT_API_KEY = getenv(\"QDRANT_API_KEY\")\n",
    "COLLECTION = getenv(\"QDRANT_COLLECTION\", \"docs\")\n",
    "EMB_MODEL = getenv(\"EMB_MODEL\", \"intfloat/multilingual-e5-base\")\n",
    "\n",
    "assert QDRANT_URL, \"QDRANT_URL is not set\"\n",
    "assert COLLECTION, \"QDRANT_COLLECTION is not set\"\n",
    "assert EMB_MODEL, \"EMB_MODEL is not set\""
   ]
  },
  {
   "cell_type": "code",
   "execution_count": 2,
   "id": "87d347c0-5d2b-49e1-b640-afaf6cb31088",
   "metadata": {},
   "outputs": [
    {
     "name": "stdout",
     "output_type": "stream",
     "text": [
      "/usr/local/bin/python3.11\n",
      "3.11.13\n"
     ]
    }
   ],
   "source": [
    "import sys, platform\n",
    "print(sys.executable)\n",
    "print(platform.python_version())"
   ]
  },
  {
   "cell_type": "code",
   "execution_count": 4,
   "id": "2c4e2c99-98c8-4acc-8687-f52ff33d6907",
   "metadata": {},
   "outputs": [
    {
     "name": "stdout",
     "output_type": "stream",
     "text": [
      "0.8616 imageФаза постоянного повышения качества \n",
      "(1950 – 1970) \n",
      "Слайд 5 \n",
      "Основа качества продукции - качество труда и качественный менеджмент  \n",
      "на всех уровнях \n",
      "imageimageimageФилипп Кросби \n",
      "• программа «Ноль дефектов» \n",
      "imageimageimage• 14 принципов менеджм {'doc_id': '85d87768b6496ce149c2979c26f3b5404fa5c616bdf72838727dc76b0ef300dc', 'page': 5, 'title': '5_ТМК_фазы', 'source': '/data/processing/5_ТМК_фазы.pdf', 'mime': 'application/pdf', 'tables_md': []}\n",
      "0.8492 imageФазы развития подходов к решению  \n",
      "проблемы качества \n",
      "Слайд 2 \n",
      "imageimageФаза  \n",
      "управления  \n",
      "качеством \n",
      "(1920 – 1950) \n",
      "imageФаза  \n",
      "планирования  \n",
      "качества \n",
      "(1970 – н.в.) \n",
      "Фаза  \n",
      "постоянного  \n",
      "повышения  \n",
      "качества \n",
      "(1950 – 1970) \n",
      "imageimageimageФ {'doc_id': '85d87768b6496ce149c2979c26f3b5404fa5c616bdf72838727dc76b0ef300dc', 'page': 2, 'title': '5_ТМК_фазы', 'source': '/data/processing/5_ТМК_фазы.pdf', 'mime': 'application/pdf', 'tables_md': []}\n",
      "0.8396 imageФаза планирования качества \n",
      "(1970 – наст. время) \n",
      "Слайд 6 \n",
      "Основная  цель  \n",
      "потребителей \n",
      "–  наиболее  полное \n",
      "удовлетворение \n",
      "запросов \n",
      "image• производитель  начинает интересоваться запросами потребителя и  \n",
      "качеством продукции своих поставщико {'doc_id': '85d87768b6496ce149c2979c26f3b5404fa5c616bdf72838727dc76b0ef300dc', 'page': 6, 'title': '5_ТМК_фазы', 'source': '/data/processing/5_ТМК_фазы.pdf', 'mime': 'application/pdf', 'tables_md': []}\n"
     ]
    }
   ],
   "source": [
    "from vector_store import get_index\n",
    "idx = get_index()\n",
    "res = idx.as_retriever(similarity_top_k=3).retrieve(\"Фаза постоянного повышения качества \")\n",
    "for n in res:\n",
    "    print(round(n.score,4), n.node.get_content()[:250], n.node.metadata)"
   ]
  },
  {
   "cell_type": "code",
   "execution_count": null,
   "id": "13d5310a-07cf-41b5-84f4-91d6c8092e71",
   "metadata": {},
   "outputs": [],
   "source": []
  }
 ],
 "metadata": {
  "kernelspec": {
   "display_name": "Python 3 (ipykernel)",
   "language": "python",
   "name": "python3"
  },
  "language_info": {
   "codemirror_mode": {
    "name": "ipython",
    "version": 3
   },
   "file_extension": ".py",
   "mimetype": "text/x-python",
   "name": "python",
   "nbconvert_exporter": "python",
   "pygments_lexer": "ipython3",
   "version": "3.11.13"
  }
 },
 "nbformat": 4,
 "nbformat_minor": 5
}
