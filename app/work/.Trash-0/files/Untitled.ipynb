{
 "cells": [
  {
   "cell_type": "code",
   "execution_count": null,
   "id": "3dc4c50d-4692-4e19-9cf4-be77e00c5c1d",
   "metadata": {},
   "outputs": [],
   "source": []
  }
 ],
 "metadata": {
  "kernelspec": {
   "display_name": "",
   "name": ""
  },
  "language_info": {
   "name": ""
  }
 },
 "nbformat": 4,
 "nbformat_minor": 5
}
