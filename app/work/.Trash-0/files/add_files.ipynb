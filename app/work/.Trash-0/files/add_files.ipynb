{
 "cells": [
  {
   "cell_type": "code",
   "execution_count": 7,
   "id": "4889dd01-2193-499b-a6d3-e61078f5ccd7",
   "metadata": {},
   "outputs": [
    {
     "ename": "FileNotFoundError",
     "evalue": "[WinError 3] Системе не удается найти указанный путь: '/data/inbox'",
     "output_type": "error",
     "traceback": [
      "\u001b[1;31m---------------------------------------------------------------------------\u001b[0m",
      "\u001b[1;31mFileNotFoundError\u001b[0m                         Traceback (most recent call last)",
      "Cell \u001b[1;32mIn[7], line 5\u001b[0m\n\u001b[0;32m      1\u001b[0m \u001b[38;5;28;01mimport\u001b[39;00m \u001b[38;5;21;01mos\u001b[39;00m\n\u001b[0;32m      3\u001b[0m folder_path \u001b[38;5;241m=\u001b[39m \u001b[38;5;124m'\u001b[39m\u001b[38;5;124m/data/inbox\u001b[39m\u001b[38;5;124m'\u001b[39m  \n\u001b[1;32m----> 5\u001b[0m files \u001b[38;5;241m=\u001b[39m [f \u001b[38;5;28;01mfor\u001b[39;00m f \u001b[38;5;129;01min\u001b[39;00m os\u001b[38;5;241m.\u001b[39mlistdir(folder_path) \u001b[38;5;28;01mif\u001b[39;00m os\u001b[38;5;241m.\u001b[39mpath\u001b[38;5;241m.\u001b[39misfile(os\u001b[38;5;241m.\u001b[39mpath\u001b[38;5;241m.\u001b[39mjoin(folder_path, f))]\n\u001b[0;32m      7\u001b[0m \u001b[38;5;28;01mif\u001b[39;00m files:\n\u001b[0;32m      8\u001b[0m     \u001b[38;5;28mprint\u001b[39m(\u001b[38;5;124m\"\u001b[39m\u001b[38;5;124mНашёл файлы:\u001b[39m\u001b[38;5;124m\"\u001b[39m, files)\n",
      "\u001b[1;31mFileNotFoundError\u001b[0m: [WinError 3] Системе не удается найти указанный путь: '/data/inbox'"
     ]
    }
   ],
   "source": [
    "import os\n",
    "\n",
    "folder_path = '/data/inbox'  \n",
    "\n",
    "files = [f for f in os.listdir(folder_path) if os.path.isfile(os.path.join(folder_path, f))]\n",
    "\n",
    "if files:\n",
    "    print(\"Нашёл файлы:\", files)\n",
    "else:\n",
    "    print(\"Файлов нет\")"
   ]
  },
  {
   "cell_type": "code",
   "execution_count": 8,
   "id": "66c8cebf-ccc0-449c-9117-b560b61b409b",
   "metadata": {},
   "outputs": [
    {
     "name": "stdout",
     "output_type": "stream",
     "text": [
      "C:\\dontlikeru\\conda\\python.exe\n",
      "C:\\Users\\Стёпа\\A_MAIN_JUP_FOLDER\\RAG - micr\\app\\work\n"
     ]
    }
   ],
   "source": [
    "import sys, os\n",
    "print(sys.executable)   # где запущен Python\n",
    "print(os.getcwd()) "
   ]
  }
 ],
 "metadata": {
  "kernelspec": {
   "display_name": "Python 3 (ipykernel)",
   "language": "python",
   "name": "python3"
  },
  "language_info": {
   "codemirror_mode": {
    "name": "ipython",
    "version": 3
   },
   "file_extension": ".py",
   "mimetype": "text/x-python",
   "name": "python",
   "nbconvert_exporter": "python",
   "pygments_lexer": "ipython3",
   "version": "3.11.13"
  }
 },
 "nbformat": 4,
 "nbformat_minor": 5
}
