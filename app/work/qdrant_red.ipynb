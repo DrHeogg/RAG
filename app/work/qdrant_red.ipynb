{
 "cells": [
  {
   "cell_type": "code",
   "execution_count": 1,
   "id": "d84ff7f8-2f71-4873-8853-ce55bc5ef1cf",
   "metadata": {},
   "outputs": [
    {
     "name": "stdout",
     "output_type": "stream",
     "text": [
      "\u001b[33mWARNING: Running pip as the 'root' user can result in broken permissions and conflicting behaviour with the system package manager. It is recommended to use a virtual environment instead: https://pip.pypa.io/warnings/venv\u001b[0m\u001b[33m\n",
      "\u001b[0m\n",
      "\u001b[1m[\u001b[0m\u001b[34;49mnotice\u001b[0m\u001b[1;39;49m]\u001b[0m\u001b[39;49m A new release of pip is available: \u001b[0m\u001b[31;49m24.0\u001b[0m\u001b[39;49m -> \u001b[0m\u001b[32;49m25.2\u001b[0m\n",
      "\u001b[1m[\u001b[0m\u001b[34;49mnotice\u001b[0m\u001b[1;39;49m]\u001b[0m\u001b[39;49m To update, run: \u001b[0m\u001b[32;49mpip install --upgrade pip\u001b[0m\n",
      "Note: you may need to restart the kernel to use updated packages.\n"
     ]
    }
   ],
   "source": [
    "%pip install -q \"llama-index>=0.11.0\" \"llama-index-vector-stores-qdrant\" \"qdrant-client>=1.9.0\" \"sentence-transformers\"\n"
   ]
  },
  {
   "cell_type": "code",
   "execution_count": 1,
   "id": "194100b3-1198-4d88-a433-f5fee8df2011",
   "metadata": {},
   "outputs": [
    {
     "name": "stdout",
     "output_type": "stream",
     "text": [
      "collections=[]\n"
     ]
    }
   ],
   "source": [
    "'''from llama_index.core import VectorStoreIndex, StorageContext\n",
    "from llama_index.core import Document\n",
    "from llama_index.embeddings.huggingface import HuggingFaceEmbedding\n",
    "from llama_index.vector_stores.qdrant import QdrantVectorStore\n",
    "from qdrant_client import QdrantClient\n",
    "from os import getenv\n",
    "from llama_index.core.settings import Settings\n",
    "\n",
    "\n",
    "qdrant_client = QdrantClient(url=QDRANT_URL)\n",
    "embed_model = HuggingFaceEmbedding(model_name=EMB_MODEL, normalize=True)\n",
    "vector_store = QdrantVectorStore(client=qdrant_client, collection_name=COLLECTION)\n",
    "storage_context = StorageContext.from_defaults(vector_store=vector_store)\n",
    "\n",
    "Settings.embed_model = embed_model\n",
    "\n",
    "_index = None\n",
    "\n",
    "def get_index():\n",
    "    \"\"\"Возвращает VectorStoreIndex, привязанный к нашей коллекции Qdrant.\"\"\"\n",
    "    global _index\n",
    "    if _index is None:\n",
    "        _index = VectorStoreIndex.from_vector_store(\n",
    "            vector_store, storage_context=storage_context\n",
    "        )\n",
    "    return _index"
   ]
  },
  {
   "cell_type": "code",
   "execution_count": null,
   "id": "317836a0-0593-4526-bb61-17230e51d2de",
   "metadata": {},
   "outputs": [],
   "source": [
    "client.create_connection(collection_name = 'test_collection',"
   ]
  }
 ],
 "metadata": {
  "kernelspec": {
   "display_name": "Python 3 (ipykernel)",
   "language": "python",
   "name": "python3"
  },
  "language_info": {
   "codemirror_mode": {
    "name": "ipython",
    "version": 3
   },
   "file_extension": ".py",
   "mimetype": "text/x-python",
   "name": "python",
   "nbconvert_exporter": "python",
   "pygments_lexer": "ipython3",
   "version": "3.11.13"
  }
 },
 "nbformat": 4,
 "nbformat_minor": 5
}
