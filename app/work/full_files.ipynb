{
 "cells": [
  {
   "cell_type": "code",
   "execution_count": 1,
   "id": "8aa4f334-9ce9-4fc7-8db8-12b0510594b8",
   "metadata": {},
   "outputs": [
    {
     "name": "stdout",
     "output_type": "stream",
     "text": [
      "новых файлов нет\n",
      "новых файлов нет\n",
      "новых файлов нет\n",
      "новых файлов нет\n",
      "новых файлов нет\n",
      "новых файлов нет\n",
      "новых файлов нет\n",
      "новых файлов нет\n",
      "новых файлов нет\n",
      "новых файлов нет\n",
      "новых файлов нет\n"
     ]
    },
    {
     "ename": "KeyboardInterrupt",
     "evalue": "",
     "output_type": "error",
     "traceback": [
      "\u001b[31m---------------------------------------------------------------------------\u001b[39m",
      "\u001b[31mKeyboardInterrupt\u001b[39m                         Traceback (most recent call last)",
      "\u001b[36mCell\u001b[39m\u001b[36m \u001b[39m\u001b[32mIn[1]\u001b[39m\u001b[32m, line 28\u001b[39m\n\u001b[32m     25\u001b[39m \u001b[38;5;28;01melse\u001b[39;00m:\n\u001b[32m     26\u001b[39m     \u001b[38;5;28mprint\u001b[39m(\u001b[33m\"\u001b[39m\u001b[33mновых файлов нет\u001b[39m\u001b[33m\"\u001b[39m)\n\u001b[32m---> \u001b[39m\u001b[32m28\u001b[39m time.sleep(\u001b[32m60\u001b[39m)\n",
      "\u001b[31mKeyboardInterrupt\u001b[39m: "
     ]
    }
   ],
   "source": [
    "import os\n",
    "import time\n",
    "\n",
    "inbox_path = '/data/inbox'\n",
    "processing_path = '/data/processing'\n",
    "\n",
    "while True:\n",
    "    files = [f for f in os.listdir(inbox_path) if os.path.isfile(os.path.join(inbox_path, f))]\n",
    "\n",
    "    if files:\n",
    "        print(\"Нашёл новые файлы:\", files)\n",
    "        for file in files:\n",
    "            src = os.path.join(inbox_path, file)\n",
    "            dst = os.path.join(processing_path, file)\n",
    "\n",
    "            if os.path.exists(dst):\n",
    "                name, ext = os.path.splitext(file)\n",
    "                counter = 1\n",
    "                while os.path.exists(dst):\n",
    "                    dst = os.path.join(processing_path, f\"{name}_{counter}{ext}\")\n",
    "                    counter += 1\n",
    "\n",
    "            os.replace(src, dst)\n",
    "            parsed = extract_text(dst)\n",
    "            docs = to_llama_documents(parsed)                       \n",
    "\n",
    "    else:\n",
    "        print(\"новых файлов нет\")\n",
    "\n",
    "    time.sleep(60)"
   ]
  },
  {
   "cell_type": "code",
   "execution_count": 1,
   "id": "44c68c93-aa57-4a49-adc1-98605709ec63",
   "metadata": {},
   "outputs": [
    {
     "name": "stdout",
     "output_type": "stream",
     "text": [
      "iufa UDHhf, Asjd! uofh 0hei kkkk. DHEUH\n"
     ]
    }
   ],
   "source": [
    "import re, unicodedata\n",
    "\n",
    "NBSP = \"\\u00A0\\u2007\\u2009\\u202F\"\n",
    "CTRL = \"\".join(map(chr, list(range(0,9))+[11,12]+list(range(14,32))+[127]))\n",
    "\n",
    "def safe_clean(text: str) -> str:\n",
    "    text = unicodedata.normalize(\"NFC\", text)\n",
    "\n",
    "    text = re.sub(f\"[{NBSP}]\", \" \", text)\n",
    "\n",
    "    text = re.sub(f\"[{re.escape(CTRL)}]\", \" \", text)\n",
    "\n",
    "    text = re.sub(r\"([A-Za-zА-Яа-я])-\\s*\\n\\s*([A-Za-zА-Яа-я])\", r\"\\1\\2\", text)\n",
    "\n",
    "    text = re.sub(r\"[ \\t]+\", \" \", text)\n",
    "    text = re.sub(r\"\\n{3,}\", \"\\n\\n\", text)\n",
    "    return text.strip()"
   ]
  },
  {
   "cell_type": "code",
   "execution_count": 2,
   "id": "aeaa5f92-fcb7-423a-87f4-8214e8e59e1b",
   "metadata": {},
   "outputs": [
    {
     "ename": "SyntaxError",
     "evalue": "unterminated string literal (detected at line 1) (1886712465.py, line 1)",
     "output_type": "error",
     "traceback": [
      "  \u001b[36mCell\u001b[39m\u001b[36m \u001b[39m\u001b[32mIn[2]\u001b[39m\u001b[32m, line 1\u001b[39m\n\u001b[31m    \u001b[39m\u001b[31mtext = \"%-------------------------\u001b[39m\n           ^\n\u001b[31mSyntaxError\u001b[39m\u001b[31m:\u001b[39m unterminated string literal (detected at line 1)\n"
     ]
    }
   ],
   "source": [
    "from pdf_parser import pdf_parser\n",
    "\n"
   ]
  },
  {
   "cell_type": "code",
   "execution_count": null,
   "id": "da6bcc7f-e2d0-471c-b067-9694a6fd23ff",
   "metadata": {},
   "outputs": [],
   "source": []
  }
 ],
 "metadata": {
  "kernelspec": {
   "display_name": "Python 3 (ipykernel)",
   "language": "python",
   "name": "python3"
  },
  "language_info": {
   "codemirror_mode": {
    "name": "ipython",
    "version": 3
   },
   "file_extension": ".py",
   "mimetype": "text/x-python",
   "name": "python",
   "nbconvert_exporter": "python",
   "pygments_lexer": "ipython3",
   "version": "3.11.13"
  }
 },
 "nbformat": 4,
 "nbformat_minor": 5
}
